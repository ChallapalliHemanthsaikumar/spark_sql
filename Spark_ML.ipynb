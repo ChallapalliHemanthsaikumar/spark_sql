{
  "nbformat": 4,
  "nbformat_minor": 0,
  "metadata": {
    "colab": {
      "provenance": [],
      "authorship_tag": "ABX9TyN7TyADMUXhetZLO5l2TLvy",
      "include_colab_link": true
    },
    "kernelspec": {
      "name": "python3",
      "display_name": "Python 3"
    },
    "language_info": {
      "name": "python"
    }
  },
  "cells": [
    {
      "cell_type": "markdown",
      "metadata": {
        "id": "view-in-github",
        "colab_type": "text"
      },
      "source": [
        "<a href=\"https://colab.research.google.com/github/ChallapalliHemanthsaikumar/spark_sql/blob/main/Spark_ML.ipynb\" target=\"_parent\"><img src=\"https://colab.research.google.com/assets/colab-badge.svg\" alt=\"Open In Colab\"/></a>"
      ]
    },
    {
      "cell_type": "code",
      "execution_count": 1,
      "metadata": {
        "id": "rKNd_WkcXu5t"
      },
      "outputs": [],
      "source": [
        "!apt-get install openjdk-8-jdk-headless -qq > /dev/null\n"
      ]
    },
    {
      "cell_type": "code",
      "source": [
        "!wget -q https://archive.apache.org/dist/spark/spark-3.2.0/spark-3.2.0-bin-hadoop3.2.tgz\n",
        "!tar xf spark-3.2.0-bin-hadoop3.2.tgz"
      ],
      "metadata": {
        "id": "j2sHUUaoX68D"
      },
      "execution_count": 2,
      "outputs": []
    },
    {
      "cell_type": "code",
      "source": [
        "import os\n",
        "os.environ[\"JAVA_HOME\"] = \"/usr/lib/jvm/java-8-openjdk-amd64\"\n",
        "os.environ[\"SPARK_HOME\"] = \"/content/spark-3.2.0-bin-hadoop3.2\""
      ],
      "metadata": {
        "id": "2Y-HD96bX9c7"
      },
      "execution_count": 3,
      "outputs": []
    },
    {
      "cell_type": "code",
      "source": [
        "!pip install -q findspark"
      ],
      "metadata": {
        "id": "VIQurE3GYPJB"
      },
      "execution_count": 5,
      "outputs": []
    },
    {
      "cell_type": "code",
      "source": [
        "# import spark\n",
        "import findspark\n",
        "findspark.init()\n",
        "\n",
        "from pyspark.sql import SparkSession\n",
        "\n",
        "spark = SparkSession.builder \\\n",
        "    .master(\"local[*]\") \\\n",
        "    .appName(\"Colab\") \\\n",
        "    .getOrCreate()"
      ],
      "metadata": {
        "id": "DuLPJMOPX_e6"
      },
      "execution_count": 7,
      "outputs": []
    },
    {
      "cell_type": "code",
      "source": [
        "!wget https://cf-courses-data.s3.us.cloud-object-storage.appdomain.cloud/IBMSkillsNetwork-BD0231EN-Coursera/datasets/NASA_airfoil_noise_raw.csv"
      ],
      "metadata": {
        "colab": {
          "base_uri": "https://localhost:8080/"
        },
        "id": "BADlvtk-YDrm",
        "outputId": "6f838df8-b7f3-46cf-af44-dc334da4cf45"
      },
      "execution_count": 8,
      "outputs": [
        {
          "output_type": "stream",
          "name": "stdout",
          "text": [
            "--2024-05-16 21:50:30--  https://cf-courses-data.s3.us.cloud-object-storage.appdomain.cloud/IBMSkillsNetwork-BD0231EN-Coursera/datasets/NASA_airfoil_noise_raw.csv\n",
            "Resolving cf-courses-data.s3.us.cloud-object-storage.appdomain.cloud (cf-courses-data.s3.us.cloud-object-storage.appdomain.cloud)... 169.63.118.104\n",
            "Connecting to cf-courses-data.s3.us.cloud-object-storage.appdomain.cloud (cf-courses-data.s3.us.cloud-object-storage.appdomain.cloud)|169.63.118.104|:443... connected.\n",
            "HTTP request sent, awaiting response... 200 OK\n",
            "Length: 60682 (59K) [text/csv]\n",
            "Saving to: ‘NASA_airfoil_noise_raw.csv’\n",
            "\n",
            "NASA_airfoil_noise_ 100%[===================>]  59.26K   237KB/s    in 0.3s    \n",
            "\n",
            "2024-05-16 21:50:31 (237 KB/s) - ‘NASA_airfoil_noise_raw.csv’ saved [60682/60682]\n",
            "\n"
          ]
        }
      ]
    },
    {
      "cell_type": "code",
      "source": [
        "!ls\n"
      ],
      "metadata": {
        "colab": {
          "base_uri": "https://localhost:8080/"
        },
        "id": "0iFpdS9JYqJ0",
        "outputId": "42cfed87-562d-4343-862a-ffd2a8d17689"
      },
      "execution_count": 25,
      "outputs": [
        {
          "output_type": "stream",
          "name": "stdout",
          "text": [
            "NASA_airfoil_noise_raw.csv  sample_data  spark-3.2.0-bin-hadoop3.2  spark-3.2.0-bin-hadoop3.2.tgz\n"
          ]
        }
      ]
    },
    {
      "cell_type": "code",
      "source": [
        "df = spark.read.csv('NASA_airfoil_noise_raw.csv', header=True, inferSchema=True)"
      ],
      "metadata": {
        "id": "fC9BnC2-YrnL"
      },
      "execution_count": 26,
      "outputs": []
    },
    {
      "cell_type": "code",
      "source": [
        "df.show(10)"
      ],
      "metadata": {
        "colab": {
          "base_uri": "https://localhost:8080/"
        },
        "id": "dH9DOwSCYv1n",
        "outputId": "8e1c67b1-1274-4ed0-c787-533eabd9fd2d"
      },
      "execution_count": 27,
      "outputs": [
        {
          "output_type": "stream",
          "name": "stdout",
          "text": [
            "+---------+-------------+-----------+------------------+-----------------------+----------+\n",
            "|Frequency|AngleOfAttack|ChordLength|FreeStreamVelocity|SuctionSideDisplacement|SoundLevel|\n",
            "+---------+-------------+-----------+------------------+-----------------------+----------+\n",
            "|      800|          0.0|     0.3048|              71.3|             0.00266337|   126.201|\n",
            "|     1000|          0.0|     0.3048|              71.3|             0.00266337|   125.201|\n",
            "|     1250|          0.0|     0.3048|              71.3|             0.00266337|   125.951|\n",
            "|     1600|          0.0|     0.3048|              71.3|             0.00266337|   127.591|\n",
            "|     2000|          0.0|     0.3048|              71.3|             0.00266337|   127.461|\n",
            "|     2500|          0.0|     0.3048|              71.3|             0.00266337|   125.571|\n",
            "|     3150|          0.0|     0.3048|              71.3|             0.00266337|   125.201|\n",
            "|     4000|          0.0|     0.3048|              71.3|             0.00266337|   123.061|\n",
            "|     5000|          0.0|     0.3048|              71.3|             0.00266337|   121.301|\n",
            "|     6300|          0.0|     0.3048|              71.3|             0.00266337|   119.541|\n",
            "+---------+-------------+-----------+------------------+-----------------------+----------+\n",
            "only showing top 10 rows\n",
            "\n"
          ]
        }
      ]
    },
    {
      "cell_type": "code",
      "source": [
        "df.count()"
      ],
      "metadata": {
        "colab": {
          "base_uri": "https://localhost:8080/"
        },
        "id": "fXJC6BA3Yx8i",
        "outputId": "1335bbf8-30ad-4e8b-8210-afddf21ec83d"
      },
      "execution_count": 28,
      "outputs": [
        {
          "output_type": "execute_result",
          "data": {
            "text/plain": [
              "1522"
            ]
          },
          "metadata": {},
          "execution_count": 28
        }
      ]
    },
    {
      "cell_type": "code",
      "source": [
        "df = df.dropDuplicates()\n",
        "df.show()"
      ],
      "metadata": {
        "colab": {
          "base_uri": "https://localhost:8080/"
        },
        "id": "TcA-bn0MY4wb",
        "outputId": "07436b0e-7766-4cbc-e926-dbe796cc7ecf"
      },
      "execution_count": 29,
      "outputs": [
        {
          "output_type": "stream",
          "name": "stdout",
          "text": [
            "+---------+-------------+-----------+------------------+-----------------------+----------+\n",
            "|Frequency|AngleOfAttack|ChordLength|FreeStreamVelocity|SuctionSideDisplacement|SoundLevel|\n",
            "+---------+-------------+-----------+------------------+-----------------------+----------+\n",
            "|     4000|          3.0|     0.3048|              31.7|             0.00529514|   115.608|\n",
            "|     3150|          2.0|     0.2286|              31.7|             0.00372371|   121.527|\n",
            "|     2000|          7.3|     0.2286|              31.7|              0.0132672|   115.309|\n",
            "|     2000|          5.4|     0.1524|              71.3|             0.00401199|   131.111|\n",
            "|      500|          9.9|     0.1524|              71.3|              0.0193001|   131.279|\n",
            "|     1000|         12.6|     0.1524|              71.3|              0.0483159|   122.044|\n",
            "|    12500|          0.0|     0.0254|              39.6|             4.28464E-4|   129.116|\n",
            "|     1600|          4.8|     0.0254|              39.6|             9.07475E-4|   125.966|\n",
            "|     2000|         15.6|     0.1016|              71.3|              0.0437259|   119.888|\n",
            "|     6300|          0.0|     0.2286|              31.7|              0.0027238|   116.815|\n",
            "|     6300|          2.7|     0.1524|              39.6|             0.00294804|   119.209|\n",
            "|      630|          5.4|     0.1524|              31.7|             0.00525474|   131.471|\n",
            "|      800|         17.4|     0.0254|              31.7|              0.0176631|   139.226|\n",
            "|     2000|          0.0|     0.1016|              31.7|             0.00150092|   133.153|\n",
            "|      200|         15.6|     0.1016|              39.6|              0.0528487|   123.514|\n",
            "|     1000|          0.0|     0.3048|              71.3|             0.00266337|   125.201|\n",
            "|     1250|          0.0|     0.3048|              71.3|             0.00266337|   125.951|\n",
            "|      800|          2.7|     0.1524|              39.6|             0.00294804|   128.829|\n",
            "|     3150|          9.5|     0.0254|              39.6|             0.00449821|   129.934|\n",
            "|     6300|         12.7|     0.0254|              71.3|              0.0121808|   125.398|\n",
            "+---------+-------------+-----------+------------------+-----------------------+----------+\n",
            "only showing top 20 rows\n",
            "\n"
          ]
        }
      ]
    },
    {
      "cell_type": "markdown",
      "source": [
        "Print the total number of rows in the dataset"
      ],
      "metadata": {
        "id": "WCte55jmZTW3"
      }
    },
    {
      "cell_type": "code",
      "source": [
        "df.count()"
      ],
      "metadata": {
        "colab": {
          "base_uri": "https://localhost:8080/"
        },
        "id": "LH76wP54ZFwd",
        "outputId": "d2e74432-a634-4e1d-b8b3-23bd9a76cc52"
      },
      "execution_count": 30,
      "outputs": [
        {
          "output_type": "execute_result",
          "data": {
            "text/plain": [
              "1503"
            ]
          },
          "metadata": {},
          "execution_count": 30
        }
      ]
    },
    {
      "cell_type": "code",
      "source": [
        "df = df.dropna()\n",
        "df.count()\n",
        "df.show()"
      ],
      "metadata": {
        "colab": {
          "base_uri": "https://localhost:8080/"
        },
        "id": "eJDCYcAFZV8F",
        "outputId": "473f3b53-5cab-4603-b81d-469ecdcb118e"
      },
      "execution_count": 31,
      "outputs": [
        {
          "output_type": "stream",
          "name": "stdout",
          "text": [
            "+---------+-------------+-----------+------------------+-----------------------+----------+\n",
            "|Frequency|AngleOfAttack|ChordLength|FreeStreamVelocity|SuctionSideDisplacement|SoundLevel|\n",
            "+---------+-------------+-----------+------------------+-----------------------+----------+\n",
            "|     4000|          3.0|     0.3048|              31.7|             0.00529514|   115.608|\n",
            "|     3150|          2.0|     0.2286|              31.7|             0.00372371|   121.527|\n",
            "|     2000|          7.3|     0.2286|              31.7|              0.0132672|   115.309|\n",
            "|     2000|          5.4|     0.1524|              71.3|             0.00401199|   131.111|\n",
            "|      500|          9.9|     0.1524|              71.3|              0.0193001|   131.279|\n",
            "|     1000|         12.6|     0.1524|              71.3|              0.0483159|   122.044|\n",
            "|    12500|          0.0|     0.0254|              39.6|             4.28464E-4|   129.116|\n",
            "|     1600|          4.8|     0.0254|              39.6|             9.07475E-4|   125.966|\n",
            "|     2000|         15.6|     0.1016|              71.3|              0.0437259|   119.888|\n",
            "|     6300|          0.0|     0.2286|              31.7|              0.0027238|   116.815|\n",
            "|     6300|          2.7|     0.1524|              39.6|             0.00294804|   119.209|\n",
            "|      630|          5.4|     0.1524|              31.7|             0.00525474|   131.471|\n",
            "|      800|         17.4|     0.0254|              31.7|              0.0176631|   139.226|\n",
            "|     2000|          0.0|     0.1016|              31.7|             0.00150092|   133.153|\n",
            "|      200|         15.6|     0.1016|              39.6|              0.0528487|   123.514|\n",
            "|     1000|          0.0|     0.3048|              71.3|             0.00266337|   125.201|\n",
            "|     1250|          0.0|     0.3048|              71.3|             0.00266337|   125.951|\n",
            "|      800|          2.7|     0.1524|              39.6|             0.00294804|   128.829|\n",
            "|     3150|          9.5|     0.0254|              39.6|             0.00449821|   129.934|\n",
            "|     6300|         12.7|     0.0254|              71.3|              0.0121808|   125.398|\n",
            "+---------+-------------+-----------+------------------+-----------------------+----------+\n",
            "only showing top 20 rows\n",
            "\n"
          ]
        }
      ]
    },
    {
      "cell_type": "code",
      "source": [
        "df.printSchema()"
      ],
      "metadata": {
        "colab": {
          "base_uri": "https://localhost:8080/"
        },
        "id": "NAmnaAZUZvBx",
        "outputId": "dfaa1941-f20c-43a7-83df-5ec780498d2f"
      },
      "execution_count": 32,
      "outputs": [
        {
          "output_type": "stream",
          "name": "stdout",
          "text": [
            "root\n",
            " |-- Frequency: integer (nullable = true)\n",
            " |-- AngleOfAttack: double (nullable = true)\n",
            " |-- ChordLength: double (nullable = true)\n",
            " |-- FreeStreamVelocity: double (nullable = true)\n",
            " |-- SuctionSideDisplacement: double (nullable = true)\n",
            " |-- SoundLevel: double (nullable = true)\n",
            "\n"
          ]
        }
      ]
    },
    {
      "cell_type": "code",
      "source": [
        "df = df.withColumnRenamed('SoundLevel','SoundLevelDecibels')"
      ],
      "metadata": {
        "id": "Wnw8xODLZ3Ew"
      },
      "execution_count": 33,
      "outputs": []
    },
    {
      "cell_type": "code",
      "source": [
        "df.write.parquet('NASA_airfoil_noise_cleaned.parquet')"
      ],
      "metadata": {
        "id": "y3efnfRHaBgW"
      },
      "execution_count": 34,
      "outputs": []
    },
    {
      "cell_type": "markdown",
      "source": [],
      "metadata": {
        "id": "ZrFlZHGPfLWM"
      }
    },
    {
      "cell_type": "code",
      "source": [
        "df.write.option(\"compression\", \"snappy\") \\\n",
        "    .mode(\"overwrite\") \\\n",
        "    .parquet(\"NASA_airfoil_noise_cleaned.parquet\")"
      ],
      "metadata": {
        "id": "F8w_934IaUoP"
      },
      "execution_count": 35,
      "outputs": []
    },
    {
      "cell_type": "markdown",
      "source": [
        "### Loading Data For Spark ML"
      ],
      "metadata": {
        "id": "kFDQJHgubFc0"
      }
    },
    {
      "cell_type": "markdown",
      "source": [],
      "metadata": {
        "id": "CgCpl9iffMHh"
      }
    },
    {
      "cell_type": "code",
      "source": [
        "df = spark.read.parquet('NASA_airfoil_noise_cleaned.parquet')"
      ],
      "metadata": {
        "id": "3qyJzvE8al0h"
      },
      "execution_count": 112,
      "outputs": []
    },
    {
      "cell_type": "code",
      "source": [
        "\n",
        "rawcount4 = df.count()\n",
        "print(rawcount4)\n",
        "df.printSchema()"
      ],
      "metadata": {
        "colab": {
          "base_uri": "https://localhost:8080/"
        },
        "id": "SooVuoUkbE1p",
        "outputId": "88d8fbf9-d986-490d-b628-9c4f2ef94d59"
      },
      "execution_count": 113,
      "outputs": [
        {
          "output_type": "stream",
          "name": "stdout",
          "text": [
            "1499\n",
            "root\n",
            " |-- Frequency: integer (nullable = true)\n",
            " |-- AngleOfAttack: double (nullable = true)\n",
            " |-- ChordLength: double (nullable = true)\n",
            " |-- FreeStreamVelocity: double (nullable = true)\n",
            " |-- SuctionSideDisplacement: double (nullable = true)\n",
            " |-- SoundLevelDecibels: double (nullable = true)\n",
            "\n"
          ]
        }
      ]
    },
    {
      "cell_type": "code",
      "source": [
        "# from sklearn import VectorAssembler\n",
        "\n",
        "from pyspark.ml.feature import VectorAssembler\n",
        "assembler = VectorAssembler(inputCols=['Frequency', 'AngleOfAttack', 'ChordLength', 'FreeStreamVelocity', 'SuctionSideDisplacement'], outputCol='features')\n",
        "# df = assembler.transform(df)"
      ],
      "metadata": {
        "id": "CqeQ34xBbRQR"
      },
      "execution_count": 114,
      "outputs": []
    },
    {
      "cell_type": "code",
      "source": [
        "df.printSchema()"
      ],
      "metadata": {
        "colab": {
          "base_uri": "https://localhost:8080/"
        },
        "id": "Nkq7aDXZcMXa",
        "outputId": "3a2e84e2-b059-41bc-b06c-f47af26968a0"
      },
      "execution_count": 115,
      "outputs": [
        {
          "output_type": "stream",
          "name": "stdout",
          "text": [
            "root\n",
            " |-- Frequency: integer (nullable = true)\n",
            " |-- AngleOfAttack: double (nullable = true)\n",
            " |-- ChordLength: double (nullable = true)\n",
            " |-- FreeStreamVelocity: double (nullable = true)\n",
            " |-- SuctionSideDisplacement: double (nullable = true)\n",
            " |-- SoundLevelDecibels: double (nullable = true)\n",
            "\n"
          ]
        }
      ]
    },
    {
      "cell_type": "code",
      "source": [
        "df.show()"
      ],
      "metadata": {
        "colab": {
          "base_uri": "https://localhost:8080/"
        },
        "id": "7gfDNEeocOIB",
        "outputId": "f64977b7-3f6f-4994-afce-c7ee441ea469"
      },
      "execution_count": 116,
      "outputs": [
        {
          "output_type": "stream",
          "name": "stdout",
          "text": [
            "+---------+-------------+-----------+------------------+-----------------------+------------------+\n",
            "|Frequency|AngleOfAttack|ChordLength|FreeStreamVelocity|SuctionSideDisplacement|SoundLevelDecibels|\n",
            "+---------+-------------+-----------+------------------+-----------------------+------------------+\n",
            "|     4000|          3.0|     0.3048|              31.7|             0.00529514|           115.608|\n",
            "|     3150|          2.0|     0.2286|              31.7|             0.00372371|           121.527|\n",
            "|     2000|          7.3|     0.2286|              31.7|              0.0132672|           115.309|\n",
            "|     2000|          5.4|     0.1524|              71.3|             0.00401199|           131.111|\n",
            "|      500|          9.9|     0.1524|              71.3|              0.0193001|           131.279|\n",
            "|     1000|         12.6|     0.1524|              71.3|              0.0483159|           122.044|\n",
            "|    12500|          0.0|     0.0254|              39.6|             4.28464E-4|           129.116|\n",
            "|     1600|          4.8|     0.0254|              39.6|             9.07475E-4|           125.966|\n",
            "|     2000|         15.6|     0.1016|              71.3|              0.0437259|           119.888|\n",
            "|     6300|          0.0|     0.2286|              31.7|              0.0027238|           116.815|\n",
            "|     6300|          2.7|     0.1524|              39.6|             0.00294804|           119.209|\n",
            "|      630|          5.4|     0.1524|              31.7|             0.00525474|           131.471|\n",
            "|      800|         17.4|     0.0254|              31.7|              0.0176631|           139.226|\n",
            "|     2000|          0.0|     0.1016|              31.7|             0.00150092|           133.153|\n",
            "|      200|         15.6|     0.1016|              39.6|              0.0528487|           123.514|\n",
            "|     1000|          0.0|     0.3048|              71.3|             0.00266337|           125.201|\n",
            "|     1250|          0.0|     0.3048|              71.3|             0.00266337|           125.951|\n",
            "|      800|          2.7|     0.1524|              39.6|             0.00294804|           128.829|\n",
            "|     3150|          9.5|     0.0254|              39.6|             0.00449821|           129.934|\n",
            "|     6300|         12.7|     0.0254|              71.3|              0.0121808|           125.398|\n",
            "+---------+-------------+-----------+------------------+-----------------------+------------------+\n",
            "only showing top 20 rows\n",
            "\n"
          ]
        }
      ]
    },
    {
      "cell_type": "code",
      "source": [
        "from pyspark.ml.feature import StandardScaler\n",
        "scaler = StandardScaler(inputCol=\"features\", outputCol=\"scaledFeatures\", withStd=True, withMean=True)"
      ],
      "metadata": {
        "id": "eXB4IIIRcRIT"
      },
      "execution_count": 117,
      "outputs": []
    },
    {
      "cell_type": "code",
      "source": [
        "from pyspark.ml.regression import LinearRegression\n",
        "# lr = LinearRegression(featuresCol='scaledFeatures',predictionCol='SoundLevelDecibels')\n",
        "lr = LinearRegression(featuresCol=\"scaledFeatures\", labelCol=\"SoundLevelDecibels\")"
      ],
      "metadata": {
        "id": "Ya_Y1VzicqTb"
      },
      "execution_count": 124,
      "outputs": []
    },
    {
      "cell_type": "code",
      "source": [
        "from pyspark.ml import Pipeline\n",
        "# import pyspark.ml.\n",
        "pipeline = Pipeline(stages=[assembler, scaler, lr])"
      ],
      "metadata": {
        "id": "Oy9h9xAIc0-Z"
      },
      "execution_count": 125,
      "outputs": []
    },
    {
      "cell_type": "code",
      "source": [
        "seed = 42\n",
        "# df.randomSplit([0.7, 0.3], seed)\n",
        "(training_data,testing_data) = df.randomSplit([0.7, 0.3], seed)"
      ],
      "metadata": {
        "id": "O-470UUtc9WB"
      },
      "execution_count": 126,
      "outputs": []
    },
    {
      "cell_type": "code",
      "source": [
        "df.show()"
      ],
      "metadata": {
        "colab": {
          "base_uri": "https://localhost:8080/"
        },
        "id": "f-tav8jee7gf",
        "outputId": "6833729a-6e34-4638-e345-84228ea5e3a0"
      },
      "execution_count": 127,
      "outputs": [
        {
          "output_type": "stream",
          "name": "stdout",
          "text": [
            "+---------+-------------+-----------+------------------+-----------------------+------------------+\n",
            "|Frequency|AngleOfAttack|ChordLength|FreeStreamVelocity|SuctionSideDisplacement|SoundLevelDecibels|\n",
            "+---------+-------------+-----------+------------------+-----------------------+------------------+\n",
            "|     4000|          3.0|     0.3048|              31.7|             0.00529514|           115.608|\n",
            "|     3150|          2.0|     0.2286|              31.7|             0.00372371|           121.527|\n",
            "|     2000|          7.3|     0.2286|              31.7|              0.0132672|           115.309|\n",
            "|     2000|          5.4|     0.1524|              71.3|             0.00401199|           131.111|\n",
            "|      500|          9.9|     0.1524|              71.3|              0.0193001|           131.279|\n",
            "|     1000|         12.6|     0.1524|              71.3|              0.0483159|           122.044|\n",
            "|    12500|          0.0|     0.0254|              39.6|             4.28464E-4|           129.116|\n",
            "|     1600|          4.8|     0.0254|              39.6|             9.07475E-4|           125.966|\n",
            "|     2000|         15.6|     0.1016|              71.3|              0.0437259|           119.888|\n",
            "|     6300|          0.0|     0.2286|              31.7|              0.0027238|           116.815|\n",
            "|     6300|          2.7|     0.1524|              39.6|             0.00294804|           119.209|\n",
            "|      630|          5.4|     0.1524|              31.7|             0.00525474|           131.471|\n",
            "|      800|         17.4|     0.0254|              31.7|              0.0176631|           139.226|\n",
            "|     2000|          0.0|     0.1016|              31.7|             0.00150092|           133.153|\n",
            "|      200|         15.6|     0.1016|              39.6|              0.0528487|           123.514|\n",
            "|     1000|          0.0|     0.3048|              71.3|             0.00266337|           125.201|\n",
            "|     1250|          0.0|     0.3048|              71.3|             0.00266337|           125.951|\n",
            "|      800|          2.7|     0.1524|              39.6|             0.00294804|           128.829|\n",
            "|     3150|          9.5|     0.0254|              39.6|             0.00449821|           129.934|\n",
            "|     6300|         12.7|     0.0254|              71.3|              0.0121808|           125.398|\n",
            "+---------+-------------+-----------+------------------+-----------------------+------------------+\n",
            "only showing top 20 rows\n",
            "\n"
          ]
        }
      ]
    },
    {
      "cell_type": "code",
      "source": [
        "training_data.show()"
      ],
      "metadata": {
        "colab": {
          "base_uri": "https://localhost:8080/"
        },
        "id": "dFpa-5G8fX-_",
        "outputId": "10d65041-f520-4032-9fe7-7004952e1769"
      },
      "execution_count": 128,
      "outputs": [
        {
          "output_type": "stream",
          "name": "stdout",
          "text": [
            "+---------+-------------+-----------+------------------+-----------------------+------------------+\n",
            "|Frequency|AngleOfAttack|ChordLength|FreeStreamVelocity|SuctionSideDisplacement|SoundLevelDecibels|\n",
            "+---------+-------------+-----------+------------------+-----------------------+------------------+\n",
            "|      200|          0.0|     0.3048|              31.7|             0.00331266|           117.195|\n",
            "|      200|          0.0|     0.3048|              39.6|             0.00310138|           118.129|\n",
            "|      200|          7.3|     0.2286|              39.6|              0.0123481|           130.989|\n",
            "|      200|          7.3|     0.2286|              55.5|              0.0111706|           135.234|\n",
            "|      200|          7.3|     0.2286|              71.3|              0.0104404|           138.758|\n",
            "|      200|          8.9|     0.1016|              71.3|              0.0103088|           133.503|\n",
            "|      200|          9.9|     0.1524|              31.7|              0.0252785|           127.299|\n",
            "|      200|          9.9|     0.1524|              39.6|              0.0233328|           127.315|\n",
            "|      200|          9.9|     0.1524|              55.5|              0.0208438|           131.955|\n",
            "|      200|         12.3|     0.1016|              31.7|              0.0418756|           124.987|\n",
            "|      200|         12.3|     0.1016|              39.6|              0.0408268|           128.545|\n",
            "|      200|         12.3|     0.1016|              55.5|              0.0368233|           132.304|\n",
            "|      200|         12.6|     0.1524|              39.6|              0.0584113|            114.75|\n",
            "|      200|         15.4|     0.0508|              31.7|              0.0289853|           119.975|\n",
            "|      200|         15.4|     0.0508|              71.3|              0.0264269|           123.595|\n",
            "|      200|         15.6|     0.1016|              39.6|              0.0528487|           123.514|\n",
            "|      200|         15.6|     0.1016|              71.3|              0.0437259|           130.898|\n",
            "|      200|         17.4|     0.0254|              71.3|               0.016104|           112.506|\n",
            "|      200|         19.7|     0.0508|              71.3|              0.0341183|           118.005|\n",
            "|      250|          0.0|     0.3048|              39.6|             0.00310138|           119.319|\n",
            "+---------+-------------+-----------+------------------+-----------------------+------------------+\n",
            "only showing top 20 rows\n",
            "\n"
          ]
        }
      ]
    },
    {
      "cell_type": "code",
      "source": [
        "Pipeline_model = pipeline.fit(training_data)"
      ],
      "metadata": {
        "id": "8Q4WGgA_dmRT"
      },
      "execution_count": 129,
      "outputs": []
    },
    {
      "cell_type": "code",
      "source": [
        "print(\"Part 2 - Evaluation\")\n",
        "print(\"Total rows = \", rawcount4)\n",
        "ps = [str(x).split(\"_\")[0] for x in pipeline.getStages()]\n",
        "\n",
        "print(\"Pipeline Stage 1 = \", ps[0])\n",
        "print(\"Pipeline Stage 2 = \", ps[1])\n",
        "print(\"Pipeline Stage 3 = \", ps[2])\n",
        "\n",
        "print(\"Label column = \", lr.getLabelCol())"
      ],
      "metadata": {
        "colab": {
          "base_uri": "https://localhost:8080/"
        },
        "id": "tzPwWSRvdrDE",
        "outputId": "3c5b7c43-7215-475b-b91a-54ffd2e6a165"
      },
      "execution_count": 131,
      "outputs": [
        {
          "output_type": "stream",
          "name": "stdout",
          "text": [
            "Part 2 - Evaluation\n",
            "Total rows =  1499\n",
            "Pipeline Stage 1 =  VectorAssembler\n",
            "Pipeline Stage 2 =  StandardScaler\n",
            "Pipeline Stage 3 =  LinearRegression\n",
            "Label column =  SoundLevelDecibels\n"
          ]
        }
      ]
    },
    {
      "cell_type": "code",
      "source": [
        "predictions = Pipeline_model.transform(testing_data)"
      ],
      "metadata": {
        "id": "8O2nY75Vimdg"
      },
      "execution_count": 133,
      "outputs": []
    },
    {
      "cell_type": "code",
      "source": [
        "from pyspark.ml.evaluation import RegressionEvaluator\n",
        "\n",
        "# Define the evaluation metrics\n",
        "evaluator = RegressionEvaluator(predictionCol=\"prediction\", labelCol=\"SoundLevelDecibels\", metricName=\"mae\")\n",
        "mae = evaluator.evaluate(predictions)\n",
        "\n",
        "evaluator.setMetricName(\"mse\")\n",
        "mse = evaluator.evaluate(predictions)\n",
        "\n",
        "evaluator.setMetricName(\"r2\")\n",
        "r2 = evaluator.evaluate(predictions)\n",
        "\n",
        "print(\"Mean Absolute Error (MAE):\", mae)\n",
        "print(\"Mean Squared Error (MSE):\", mse)\n",
        "print(\"R-squared (R^2):\", r2)"
      ],
      "metadata": {
        "colab": {
          "base_uri": "https://localhost:8080/"
        },
        "id": "GHo84O9hiyJW",
        "outputId": "0ffca900-4f6f-494f-a936-659573cdf8c8"
      },
      "execution_count": 134,
      "outputs": [
        {
          "output_type": "stream",
          "name": "stdout",
          "text": [
            "Mean Absolute Error (MAE): 3.913679095881318\n",
            "Mean Squared Error (MSE): 24.997666255020178\n",
            "R-squared (R^2): 0.495968840897543\n"
          ]
        }
      ]
    },
    {
      "cell_type": "code",
      "source": [
        "print(\"Mean Squared Error = \", round(mse,2))\n",
        "print(\"Mean Absolute Error = \", round(mae,2))\n",
        "print(\"R Squared = \", round(r2,2))\n",
        "\n",
        "lrModel = Pipeline_model.stages[-1]\n",
        "\n",
        "print(\"Intercept = \", round(lrModel.intercept,2))\n"
      ],
      "metadata": {
        "colab": {
          "base_uri": "https://localhost:8080/"
        },
        "id": "GvFU7ydXjJpt",
        "outputId": "0c93af57-7b6e-4422-f4f6-e476ae976945"
      },
      "execution_count": 136,
      "outputs": [
        {
          "output_type": "stream",
          "name": "stdout",
          "text": [
            "Mean Squared Error =  25.0\n",
            "Mean Absolute Error =  3.91\n",
            "R Squared =  0.5\n",
            "Intercept =  124.83\n"
          ]
        }
      ]
    },
    {
      "cell_type": "code",
      "source": [
        "# pipeline_model.save(model_path)\n",
        "Pipeline_model.save(\"pipeline_model.model\")"
      ],
      "metadata": {
        "id": "p7Ps51r7jNvF"
      },
      "execution_count": 137,
      "outputs": []
    },
    {
      "cell_type": "code",
      "source": [
        "from pyspark.ml import PipelineModel\n",
        "Final_model = PipelineModel.load(\"pipeline_model.model\")"
      ],
      "metadata": {
        "id": "LHkhkgFGkFS4"
      },
      "execution_count": 139,
      "outputs": []
    },
    {
      "cell_type": "code",
      "source": [
        "pred = Final_model.transform(testing_data)"
      ],
      "metadata": {
        "id": "Qoy8XynikL8h"
      },
      "execution_count": 141,
      "outputs": []
    },
    {
      "cell_type": "code",
      "source": [
        "pred.select(\"prediction\", \"SoundLevelDecibels\").show()"
      ],
      "metadata": {
        "colab": {
          "base_uri": "https://localhost:8080/"
        },
        "id": "3__xbHu0kbiZ",
        "outputId": "1635d329-0773-4792-a77a-9f253807acb9"
      },
      "execution_count": 142,
      "outputs": [
        {
          "output_type": "stream",
          "name": "stdout",
          "text": [
            "+------------------+------------------+\n",
            "|        prediction|SoundLevelDecibels|\n",
            "+------------------+------------------+\n",
            "|122.59722914376378|           128.679|\n",
            "|127.37968204568342|            133.42|\n",
            "|130.34077425073457|           119.146|\n",
            "| 131.1101697511273|           116.074|\n",
            "|127.12627360125776|           134.319|\n",
            "| 127.8945637390452|            125.01|\n",
            "| 131.0622098122442|           125.941|\n",
            "|125.73739953849169|           130.588|\n",
            "|121.53249832198978|           128.354|\n",
            "|124.20059665618763|           121.783|\n",
            "|125.87997778533499|            122.94|\n",
            "|125.24362112903022|           116.146|\n",
            "|126.06429872612159|           114.044|\n",
            "|127.67830278943427|           109.951|\n",
            "| 121.2502214756427|           125.974|\n",
            "|123.31966959831726|           116.066|\n",
            "|124.20046348885761|           118.595|\n",
            "|126.16068839642757|           126.395|\n",
            "| 122.5337859220566|           130.089|\n",
            "|123.42922049989846|           131.889|\n",
            "+------------------+------------------+\n",
            "only showing top 20 rows\n",
            "\n"
          ]
        }
      ]
    },
    {
      "cell_type": "code",
      "source": [],
      "metadata": {
        "id": "49HBa9oCkwgJ"
      },
      "execution_count": null,
      "outputs": []
    }
  ]
}